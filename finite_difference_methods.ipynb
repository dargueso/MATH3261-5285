{
  "nbformat": 4,
  "nbformat_minor": 0,
  "metadata": {
    "colab": {
      "provenance": [],
      "include_colab_link": true
    },
    "kernelspec": {
      "name": "python3",
      "display_name": "Python 3"
    }
  },
  "cells": [
    {
      "cell_type": "markdown",
      "metadata": {
        "id": "view-in-github",
        "colab_type": "text"
      },
      "source": [
        "<a href=\"https://colab.research.google.com/github/janzika/MATH3261-5285/blob/main/finite_difference_methods.ipynb\" target=\"_parent\"><img src=\"https://colab.research.google.com/assets/colab-badge.svg\" alt=\"Open In Colab\"/></a>"
      ]
    },
    {
      "cell_type": "markdown",
      "metadata": {
        "id": "-w-Hgzk51Nvu"
      },
      "source": [
        "# Finite Difference Methods\n",
        "\n",
        "In this lab, we will look at numerical methods for solving a simple PDE: the 1D wave equation. We will also give a brief introduction to the python coding language and the Google colaboratory environment. By the end of this lab you will be able to\n",
        "\n",
        "- write notes and mathematical equations in markdown\n",
        "- write basic python code to manipulate matrices, define functions, and plot data\n",
        "- discretize a PDE to form a matrix equation for the forward operator\n",
        "- use a space-time diagram to examine the effect of intitial conditions and boundary conditions in the 1D wave equation\n"
      ]
    },
    {
      "cell_type": "markdown",
      "metadata": {
        "id": "MxtLffiws4aC"
      },
      "source": [
        "# Introducing Python"
      ]
    },
    {
      "cell_type": "markdown",
      "metadata": {
        "id": "irsMh7br9BF6"
      },
      "source": [
        "## What is Python?\n",
        "\n",
        "In this course, we will use [Python](https://www.python.org/) to run fluid dynamics simulations, analyze output, and plot figures and movies. Python is free, flexible, easy to use, and has tons of online resources for beginners. If you have a question about Python, my default answer will be \"have you Googled it?\"\n",
        "\n",
        "You do not need to be fluent in Python or any other programming language for this course. We will run Python from within these notebooks, and you will get lots of guidance. You are also encouraged to complete this [free online tutorial](https://www.codecademy.com/learn/learn-python) to familiarise yourself with Python syntax."
      ]
    },
    {
      "cell_type": "markdown",
      "metadata": {
        "id": "oSvanmHf9Ii-"
      },
      "source": [
        "## Google Colaboratory\n",
        "\n",
        "We will run the python labs in [Google Colaboratory](colab.research.google.com). Google Colab is a web-based computational environment in which you can read, write, and execute interactive *notebooks* like the one you are reading. The python code runs on a virtual machine in the cloud, so you don't need to install python on your local machine.\n",
        "\n",
        "Before you begin the lab, you will need to [sign up](https://accounts.google.com/signup) for a free Google account. If you do not wish to sign up for a Google account, that's fine: you will still be able to read through the lab. You just won't be able to make edits or run any code.\n",
        "\n",
        "### Colaboratory and Google Drive\n",
        "\n",
        "If you have a Google account, you can mount your Google drive within the Colab environment. This is not required to run the lab (figures and movies will be saved to the Colab virtual machine and played in your browser). But if you would like to save output you can do so by navigating to `drive/'My Drive'`\n",
        "\n",
        "```\n",
        "from google.colab import drive\n",
        "drive.mount('/content/drive')\n",
        "!ls drive/'My Drive'\n",
        "```\n",
        "\n",
        "If you would like, you can save a copy of this notebook to your local machine or to your Google drive so you can save your output or see any notes you made within the notebook.\n",
        "\n",
        "### Markdown\n",
        "\n",
        "Within a notebook you can display text, mathematical notation, images, etc, using [Markdown](https://www.markdownguide.org/). For example:\n",
        "\n",
        "#### World's most awesome equations:\n",
        "\n",
        "- Newton's second law: $F = m \\dot{v}$.\n",
        "- Euler's equation: $e^{\\mathrm{i} \\pi} + 1 = 0$.\n",
        "- Wave equation (\"_gnarly dude!_\"):\n",
        "$$\n",
        "\\frac{\\partial^2 f}{\\partial t^2} = c^2 \\frac{\\partial^2 f}{\\partial x^2}.\n",
        "$$\n",
        "\n",
        "You can also write `in-line code` or include code snippets like the one shown below:\n",
        "\n",
        "```\n",
        "# plot 2D colorplot\n",
        "plt.subplot(1,2,1)\n",
        "plt.pcolormesh(xx, yy, f)\n",
        "plt.title('f(x,y)')\n",
        "plt.xlabel('x')\n",
        "plt.ylabel('y')\n",
        "plt.axis('square')\n",
        "```\n",
        "\n",
        "If you double-click any cell, you can see the Markdown code used to create it."
      ]
    },
    {
      "cell_type": "markdown",
      "metadata": {
        "id": "J-qcv9AGJIYb"
      },
      "source": [
        "-----------\n",
        "**Exercise**\n",
        "\n",
        "- Double click this text cell to make it editable. Add some notes, code snippets, or equations in the cell.\n",
        "\n",
        "------------"
      ]
    },
    {
      "cell_type": "markdown",
      "metadata": {
        "id": "jRVROqkY9ltP"
      },
      "source": [
        "Colab also allows you to use \"cells\" of python code that be executed in real time.\n",
        "\n",
        "--------\n",
        "**Exercise**\n",
        "\n",
        "- Move down to the next cell and enter the following python code:\n",
        "\n",
        "```\n",
        "string = \"Hello world!\"\n",
        "print(string)\n",
        "```\n",
        "\n",
        "- When you are finished, press **SHIFT + ENTER** to run the cell (or click the play button beside the cell).\n",
        "\n",
        "--------------\n"
      ]
    },
    {
      "cell_type": "code",
      "metadata": {
        "id": "Ya63cyGK92Vs"
      },
      "source": [
        "# This is a blank code cell. You can add your python code below and press SHIFT + ENTER to execute, or just click\n",
        "# the play button beside the cell\n",
        "\n",
        "string = \"Hello world!\"\n",
        "print(string)\n"
      ],
      "execution_count": null,
      "outputs": []
    },
    {
      "cell_type": "markdown",
      "metadata": {
        "id": "jxy_ItSJ-T1d"
      },
      "source": [
        "Congratulations! You are now a pythonista. Variables carry over from cell to cell, so you can build complex scripts by sequentially running cells one after another.\n",
        "\n",
        "-------------\n",
        "**Exercise**\n",
        "\n",
        "\n",
        "- Now create a new cell by clicking on the \"+ Code\" button in the menu above. In the new cell, enter the following python code:\n",
        "\n",
        "```\n",
        "longer_string = string + \" spam! Spam! SPAM!\"\n",
        "print(longer_string)\n",
        "```\n",
        "\n",
        "- Don't forget to **SHIFT + ENTER** to run the cell.\n",
        "\n",
        "---------------"
      ]
    },
    {
      "cell_type": "code",
      "source": [
        "longer_string = string + \" spam! Spam! SPAM!\"\n",
        "print(longer_string)"
      ],
      "metadata": {
        "id": "MtaiJrTAQvD2"
      },
      "execution_count": null,
      "outputs": []
    },
    {
      "cell_type": "markdown",
      "metadata": {
        "id": "br1_N4uG-qtp"
      },
      "source": [
        "## Libraries\n",
        "\n",
        "Python makes extensive use of freely available, open source *libraries*, which contain tonnes of useful functions etc that you can make use of. The following python code calls two standard libraries: `numpy` (pronounced \"numb pie\"), which contains useful functions for carrying out numerics, and `matplotlib`, which allows us to plot data.\n",
        "\n",
        "Since we will be using these libraries repeatedly, we will abbreviate their names to `np` and `plt`, respectively.\n",
        "\n",
        "Finally, the last line instructs `matplotlib` to plot figures in the Jupyter notebook, just below the cell that calls it. That way, you will be able to view and save figures within the notebook."
      ]
    },
    {
      "cell_type": "code",
      "metadata": {
        "id": "m4E6EWxf-0F-"
      },
      "source": [
        "# Numerics\n",
        "import numpy as np\n",
        "\n",
        "# Plotting\n",
        "import matplotlib.pyplot as plt\n",
        "\n",
        "# plot figures in Jupyter notebook\n",
        "%matplotlib inline"
      ],
      "execution_count": null,
      "outputs": []
    },
    {
      "cell_type": "markdown",
      "metadata": {
        "id": "jICKzyi4-3Xy"
      },
      "source": [
        "## Variables, arrays, and indexing\n",
        "\n",
        "The first thing we need to do is define a numerical grid. We will do this using the `numpy` functions `linspace` and `meshgrid`. Thus, when we call them, we will use the alias we defined for this library, `np`, followed by a period `.` followed by the particular function we want from the library, e.g. `np.linspace`.\n",
        "\n",
        "First, we create a vector `xv` of `2n+1` equally spaced gridpoints between $x = -1$ and $x = 1$. Again, press **shift + enter** to run the following cell."
      ]
    },
    {
      "cell_type": "code",
      "metadata": {
        "id": "qhugOu6T-7aX"
      },
      "source": [
        "# Grid\n",
        "n = 50\n",
        "xv = np.linspace(-1,1,2*n+1)\n",
        "\n",
        "print(xv.shape)\n",
        "print(xv[0:10])\n",
        "print(xv[-10:])"
      ],
      "execution_count": null,
      "outputs": []
    },
    {
      "cell_type": "markdown",
      "metadata": {
        "id": "DUR8U6h5--YE"
      },
      "source": [
        "The command `print(xv.shape)` prints the dimensions of the array `xv`. In this case, it is a 1D array with `2n+1` elements, so the dimensions are $(2n+1,)$. Notice that the second dimension is simply blank, rather than `1`.\n",
        "\n",
        "The commands `print(xv[0:10])` and `print(xv[-10:])` print the first and last ten elements of the array. Indexing in python is indicated using square brackets `[...]` and is referenced to the first element (for positive indices) or the last element (for negative indices). Thus, `xv[0:10]` can be read as: \"first + 0 elements to first + 10 elements\", and `xv[-10:]` can be read as: \"last - 10 elements to last element\".\n",
        "\n",
        "Next we will define 2D arrays `xx` and `yy` using the function `meshgrid`."
      ]
    },
    {
      "cell_type": "code",
      "metadata": {
        "id": "6NaZyew-_C5H"
      },
      "source": [
        "xx,yy = np.meshgrid(xv,xv,indexing='ij')\n",
        "\n",
        "print(xx.shape)\n",
        "print(yy.shape)\n",
        "\n",
        "print(xx[0:10,0:10])\n",
        "print(yy[0:10,0:10])"
      ],
      "execution_count": null,
      "outputs": []
    },
    {
      "cell_type": "markdown",
      "metadata": {
        "id": "_6-LOO8S_Fd2"
      },
      "source": [
        "The array `xx` is an $2n+1 \\times 2n+1$ matrix in which each row is the corresponding value of `xv`. Likewise, the array `yy` is an $2n+1 \\times 2n+1$ matrix with each column having the corresponding value of `xv`.\n",
        "\n",
        "Let's try plotting a simple function of x and y using the arrays `xx` and `yy`. The function we will use is\n",
        "\n",
        "$$\n",
        "f = \\sin  (\\pi x)\n",
        "$$\n",
        "\n",
        "Both the sine function and the constant pi are part of the `numpy` library, so we call the using `np.sin` and `np.pi`, respectively."
      ]
    },
    {
      "cell_type": "code",
      "metadata": {
        "id": "0t0dSE2t_KH1"
      },
      "source": [
        "# define function\n",
        "f = np.sin(np.pi*xx)*np.cos(np.pi*yy)"
      ],
      "execution_count": null,
      "outputs": []
    },
    {
      "cell_type": "markdown",
      "metadata": {
        "id": "cuhQwH4o_M2L"
      },
      "source": [
        "## Plotting\n",
        "\n",
        "We will make a 2D colorplot of this function using `plt.pcolormesh`, as well as a 1D plot of a slice of the function using `plt.plot`. We will also use some other functions from `matplotlib` to control the appearance of the figure, such as `subplot`, `title`, `xlabel`, etc."
      ]
    },
    {
      "cell_type": "code",
      "metadata": {
        "id": "WW1By_ps_Wte"
      },
      "source": [
        "fig = plt.figure(figsize=(16,16))\n",
        "\n",
        "# plot 2D colorplot\n",
        "ax = fig.add_subplot(1,2,1)\n",
        "plt.subplot(1,2,1)\n",
        "plt.pcolormesh(xx, yy, f)\n",
        "plt.title('f(x,y)')\n",
        "plt.xlabel('x')\n",
        "plt.ylabel('y')\n",
        "plt.axis('square')\n",
        "\n",
        "# plot 1D slice along y = 0\n",
        "plt.subplot(1,2,2)\n",
        "plt.plot(xv,f[:,n])\n",
        "plt.title('f(x,0)')\n",
        "plt.xlabel('x')\n",
        "plt.axis('square')\n",
        "plt.ylim(-1.1,1.1)"
      ],
      "execution_count": null,
      "outputs": []
    },
    {
      "cell_type": "markdown",
      "metadata": {
        "id": "Prgk57XdMPE4"
      },
      "source": [
        "## Functions\n",
        "\n",
        "A more flexible way to define a function is using the `def` command\n",
        "\n",
        "```\n",
        "# define function\n",
        "def trigfun(a,x):\n",
        "    return np.sin(a*x)\n",
        "\n",
        "f = trigfun(np.pi,xx)\n",
        "```\n",
        "\n",
        "Notice the colon (`:`) after the `def` command and the indentation of the subsequent code. These have meaning in python. The colon tells python that the indented code is part of the definition. There is no `end` command in python. The next line has no indentation, so it is not part of the function definition."
      ]
    },
    {
      "cell_type": "markdown",
      "metadata": {
        "id": "900jq89Q_Qhi"
      },
      "source": [
        "--------------\n",
        "\n",
        "**Exercise**\n",
        "\n",
        "- Replace the function `f = np.sin(np.pi*xx)` with the function definition in the code snippet above. Replot the figure using the new `trigfun` function.\n",
        "\n",
        "- Modify the function `trigfun` above so that it is $f = \\cos (\\pi y)$ and plot a 2D colormap of the function. To do this, you will need to run (**shift + enter**) both cells: the cell that defines `trigfun` and the cell that plots `f`.\n",
        "\n",
        "- How should you change the 1D plot so that it shows a slice along $x = 0$ instead of $y = 0$?\n",
        "\n",
        "- Try plotting a more complication function like $f = \\sin (\\pi x) \\cos (\\pi y$).\n",
        "\n",
        "------------------"
      ]
    },
    {
      "cell_type": "markdown",
      "metadata": {
        "id": "8QuVId31Lgiu"
      },
      "source": [
        "# Background\n",
        "\n",
        "In this lab we will look at numerical methods for solving the unforced 1D wave equation:\n",
        "\n",
        "$$\n",
        "\\frac{\\partial u}{\\partial t} + a \\frac{\\partial u}{\\partial x} = 0, \\qquad 0 \\le x \\le L, \\quad 0 \\le t \\le T.\n",
        "$$\n",
        "\n",
        "Here, $u(x,t)$ represents a perurbation (for example, a wave height) at position $x$ and time $t$ on the domain $[0,L] \\times [0, T]$. The boundary and initial conditions for the problem are, respectively,\n",
        "\n",
        "$$\n",
        "\\begin{align}\n",
        "u(0,t) = b(t), \\quad & \\mbox{boundary condition},\\\\\n",
        "u(x,0) = c(x), \\quad & \\mbox{initial condition}.\n",
        "\\end{align}\n",
        "$$"
      ]
    },
    {
      "cell_type": "markdown",
      "metadata": {
        "id": "nGrBr1p-eSP7"
      },
      "source": [
        "### Discretizing the field\n",
        "\n",
        "To solve the wave equation, we are going to replace the fields and derivatives with discrete approximations. We begin by dividing up the $x$-axis into $N+1$ increments and the $t$-axis into $K+1$ increments:\n",
        "\n",
        "$$\n",
        "\\begin{align}\n",
        "x_n = n \\Delta x, \\quad & n = 0, 1, \\cdots, N-1, N\\\\\n",
        "t_k = k \\Delta k, \\quad & k = 0, 1, \\cdots, K-1, K\n",
        "\\end{align}\n",
        "$$\n",
        "\n",
        "Note that $x_0 = 0$, $x_N = L$, $t_0 = 0$, and $t_K = T$.\n",
        "\n",
        "We can then evaluate the continuous field $u(x,t)$ at these discrete points in space and time:\n",
        "\n",
        "$$\n",
        "u_n^k \\equiv u(x_n, t_k) = u (n \\Delta x, k \\Delta t).\n",
        "$$\n",
        "\n",
        "We will use subscripts for the space index $(n)$ and superscripts for the time index $(k)$."
      ]
    },
    {
      "cell_type": "markdown",
      "metadata": {
        "id": "8acY-m7EeXWt"
      },
      "source": [
        "### Finite difference approximation for the time derivative\n",
        "\n",
        "Let us rewrite the PDE as\n",
        "\n",
        "$$\n",
        "\\frac{\\partial u}{\\partial t} = r(x,t),\n",
        "$$\n",
        "\n",
        "where\n",
        "\n",
        "$$\n",
        "r(x,t) = - a \\frac{\\partial u}{\\partial x}.\n",
        "$$\n",
        "\n",
        "The next step is to estimate the time derivative by replacing it with a linear approximation:\n",
        "\n",
        "$$\n",
        "\\frac{\\partial u}{\\partial t} \\approx \\frac{u_n^{k+1} - u_n^{k}}{\\Delta t}\n",
        "$$\n",
        "\n",
        "You can see as $\\Delta t \\rightarrow 0$, this approximation will become more and more accurate.\n",
        "\n",
        "The partial derivative involves the field $u(x,t)$ evaluated at two timesteps: the *current* time-step $t_k$ and the future time-step $t_{k+1}$. We now need to decide what timestep to evaluate the right-hand side, $r(x,t)$. For example, we would evaluate $r(x,t)$ at the current timestep, in which case the PDE becomes\n",
        "\n",
        "$$\n",
        "\\frac{u_n^{k+1} - u_n^k}{\\Delta t} = r_n^k.\n",
        "$$\n",
        "\n",
        "This can then be solved for the perturbation at the next timestep:\n",
        "\n",
        "$$\n",
        "u_n^{k+1} = u_n^k + r_n^k \\Delta t.\n",
        "$$\n",
        "\n",
        "Thus, given the current value of the field ($u_n^k$) and its derivatives ($r_n^k$), we can calculate the next value ($u_n^{k+1}$).\n",
        "\n",
        "There are many choices for how to write this finite difference approximations, each with different advantages and disadvantages in terms of speed, accuracy, and stablity. The finite difference scheme written above is perhaps the simplest and is called a **forward difference**, and gives us the future timestep explicitly in terms of the current timestep.\n",
        "\n",
        "Another possibility is a **backward difference** in which we evaluate the right-hand side at the future timestep:\n",
        "\n",
        "$$\n",
        "\\frac{u_n^{k+1} - u_n^k}{\\Delta t} = r_n^{k+1}.\n",
        "$$\n",
        "\n",
        "In this case, I can't solve for the future state explicity; the equation above represents an implicit equation for $u_n^{k+1}$. These methods tend to be more computationally intensive but are more numerically stable.\n",
        "\n",
        "In this lab, we will use the forward difference scheme for the time derivative. You are encouraged to think about how things would change if you used the backward difference scheme instead."
      ]
    },
    {
      "cell_type": "markdown",
      "metadata": {
        "id": "YGgs8fXSeblE"
      },
      "source": [
        "### Finite difference approximation for the space derivative\n",
        "\n",
        "Now we need to consider how to deal with the spatial derivatives. To do this, it is worth looking carefully at the equation we are solving:\n",
        "\n",
        "$$\n",
        "\\frac{\\partial u}{\\partial t} = r(x,t) = - a \\frac{\\partial u}{\\partial x}.\n",
        "$$\n",
        "\n",
        "This is a hyperbolic equation. For $a>0$, we expect to obtain waves travelling in the positive $x$-direction. This means that perturbations at a given $x$ will be affected by values of the field *to the left* of this location, or **upwind**. It makes sense then to approximate the spatial derivative as\n",
        "\n",
        "$$\n",
        "\\frac{\\partial u}{\\partial x} \\approx \\frac{u_n^k - u_{n-1}^k}{\\Delta x}.\n",
        "$$\n",
        "\n",
        "Again, we notice that this approximation becomes more accurate as $\\Delta x \\rightarrow 0$.\n",
        "\n",
        "Higher-order schemes, and schemes involving both upwind and downwind information, may be appropriate depending on the particular PDE being solved."
      ]
    },
    {
      "cell_type": "markdown",
      "metadata": {
        "id": "w1sCskB6P1Pp"
      },
      "source": [
        "\n",
        "### Matrix representation of the 1D wave equation\n",
        "\n",
        "Gathering together these approximations, we can write the **forward difference upwind finite difference approximation** of the 1D wave equations as a recurrance relation\n",
        "\n",
        "$$\n",
        "u_n^{k+1} = u_n^{k} - \\frac{a \\Delta t}{\\Delta x} \\left( u_n^k - u_{n-1}^k \\right).\n",
        "$$\n",
        "\n",
        "The quantity $C = a \\Delta t / \\Delta x$ is an important parameter called the *Courant number*. It is set by the choice of discretization through the size of the timestep $\\Delta t$ and grid spacing $\\Delta x$. Rewriting the recurrance relation then gives us\n",
        "\n",
        "$$\n",
        "u_n^{k+1} = C \\; u_{n-1}^k + (1-C) \\; u_n^k.\n",
        "$$\n",
        "\n",
        "In addition, we have the boundary and initial conditions. In discretized form, these are\n",
        "\n",
        "$$\n",
        "\\begin{align}\n",
        "u_0^k = b^k = b(k\\Delta t), \\quad & \\mbox{boundary condition}, \\\\\n",
        "u_n^0 = c_n = c(n\\Delta x), \\quad & \\mbox{initial condition}. \\\\\n",
        "\\end{align}\n",
        "$$\n",
        "\n",
        "For consistency, we must have $b^0 = c_0$.\n",
        "\n",
        "We are now ready to write out the finite-difference approximation of the PDE:\n",
        "\n",
        "$$\n",
        "\\begin{align}\n",
        "u_1^{k+1} & = C \\; b^k + (1-C) \\; u_1^k, \\\\\n",
        "u_2^{k+1} & = C \\; u_1^k + (1-C) \\; u_2^k, \\\\\n",
        "\\vdots \\\\\n",
        "u_{N-1}^{k+1} & = C \\; u_{N-2}^k + (1-C) \\; u_{N-1}^k.\\\\\n",
        "u_N^{k+1} & = C \\; u_{N-1}^k + (1-C) \\; u_N^k.\\\\\n",
        "\\end{align}\n",
        "$$\n",
        "\n",
        "In matrix form this becomes\n",
        "\n",
        "$$\n",
        "\\left( \\begin{array}{c} u_1 \\\\ u_2 \\\\ \\vdots \\\\ u_{N-1} \\\\ u_{N} \\end{array} \\right)^{k+1} = \\left( \\begin{array}{ccccccc} 1 - C &  &  &  &   \\\\ C & 1 - C & & & \\\\ & \\ddots & \\ddots & & & \\\\ & & C & 1 - C \\\\ & & & C &1-C\n",
        "\\end{array}\\right)  \\left( \\begin{array}{c} u_1 \\\\ u_2 \\\\ \\vdots \\\\ u_{N-1} \\\\ u_{N} \\end{array} \\right)^{k} + \\left( \\begin{array}{c} C b^k \\\\ 0 \\\\ \\vdots \\\\ 0 \\\\0 \\end{array} \\right).\n",
        "$$\n",
        "\n",
        "In compact form this can be written as\n",
        "\n",
        "$$\n",
        "\\mathbf{u}^{k+1} = \\mathsf{A} \\mathbf{u}^k + C \\; \\mathbf{b}^k.\n",
        "$$\n",
        "\n",
        "**Notes:**\n",
        "- This matrix is in the form of a lower left triangular matrices with non-zero entries along two diagonals.\n",
        "- The boundary conditions (which we have specified by $b^k$) appear as a new \"forcing term\" on the right-hand side that enforces the boundary condition at $x = 0$.\n",
        "- Given initial conditions $\\mathbf{u}^0 = \\mathbf{c}$, the above equation can be solved iteratively for $\\mathbf{u}^1$, $\\mathbf{u}^2$, $\\cdots$\n",
        "\n",
        "- In the limit of $\\Delta t \\rightarrow 0$ or $a \\rightarrow 0$ we have $C = 0$ and the matrix $\\mathsf{A}$ becomes simply the identity. This means that the initial condition will remain unchanged in this limit."
      ]
    },
    {
      "cell_type": "markdown",
      "metadata": {
        "id": "iy8s44RVtW6B"
      },
      "source": [
        "# Experiment"
      ]
    },
    {
      "cell_type": "markdown",
      "metadata": {
        "id": "kkyj9c7CfBph"
      },
      "source": [
        "## Problem parameters and discretization\n",
        "\n",
        "Let's start by defining our problem parameters and discretizing the space and time axes."
      ]
    },
    {
      "cell_type": "code",
      "metadata": {
        "id": "dJRto6FudueJ"
      },
      "source": [
        "# Problem parameters\n",
        "L = 0.5       # domain size\n",
        "T = 4         # integration time\n",
        "a = 0.1      # wave speed\n",
        "\n",
        "# Solver parameters\n",
        "N = 50        # number of gridcells\n",
        "K = 400       # number of timesteps"
      ],
      "execution_count": null,
      "outputs": []
    },
    {
      "cell_type": "code",
      "metadata": {
        "id": "yzyLIAFsdxpC"
      },
      "source": [
        "# spatial grid\n",
        "xv = np.linspace(0,L,N+1)\n",
        "dx = L/N\n",
        "print('dx =',dx)\n",
        "\n",
        "# time grid\n",
        "tv = np.linspace(0,T,K+1)\n",
        "dt = T/K\n",
        "print('dt =',dt)\n",
        "\n",
        "# meshgrid\n",
        "xx,tt = np.meshgrid(xv,tv,indexing='ij')"
      ],
      "execution_count": null,
      "outputs": []
    },
    {
      "cell_type": "markdown",
      "metadata": {
        "id": "cFKSgGaofXNo"
      },
      "source": [
        "## Matrix representation\n",
        "\n",
        "Let's form the matrix above for the space and time discretization we have used. To do this, it will be convenient to define a function that generates a tridiagonal matrix, i.e. a matrix with non-zero values along the diagonal and the adjacent cells."
      ]
    },
    {
      "cell_type": "code",
      "metadata": {
        "id": "q41VyFuPZAVa"
      },
      "source": [
        "# create forward operator\n",
        "def tridiag(a, b, c, N):\n",
        "    return np.diag(np.repeat(a,N-1), -1) + np.diag(np.repeat(b,N), 0) + np.diag(np.repeat(c,N-1), 1)\n",
        "\n",
        "C = a*dt/dx\n",
        "print('Courant number C =',C)\n",
        "\n",
        "A = tridiag(C, 1-C, 0, N)\n",
        "print('A=')\n",
        "print(A[0:10,0:10])"
      ],
      "execution_count": null,
      "outputs": []
    },
    {
      "cell_type": "markdown",
      "metadata": {
        "id": "uyaTKTxBf-mc"
      },
      "source": [
        "## Boundary and initial conditions\n",
        "\n",
        "Now let's specify boundary and initial conditions. For now, we'll keep the boundary condition to be simply $u(0,t)=0$. You can experiment with more complex boundary conditions later.\n",
        "\n",
        "For an initial condition, we will use a Gaussian profile centred at $x = x_0$ with width $D$,\n",
        "\n",
        "$$\n",
        "u(x,0) = c(x) = \\mathrm{exp} \\left( -\\frac{(x-x_0)^2}{D^2} \\right).\n",
        "$$"
      ]
    },
    {
      "cell_type": "code",
      "metadata": {
        "id": "HZsmZolrSL1S"
      },
      "source": [
        "# boundary condition\n",
        "b = np.zeros(K+1)\n",
        "\n",
        "# initial condition\n",
        "c = np.zeros(N+1)\n",
        "D = 0.1\n",
        "x0 = L/2\n",
        "c = np.exp(-(xv-x0)**2/D**2)\n",
        "\n",
        "# set up the field\n",
        "u = np.zeros((N+1,K+1))\n",
        "u[:,0] = c\n",
        "u[0,:] = b"
      ],
      "execution_count": null,
      "outputs": []
    },
    {
      "cell_type": "markdown",
      "metadata": {
        "id": "Qz7mYOPDgt1s"
      },
      "source": [
        "## Stepping forward in time\n",
        "\n",
        "We now write a simple `for` loop to iteratively update the field $\\mathbf{u}^{k+1}$ given the previous timestep $\\mathbf{u}^{k}$. We also need to enforce the boundary condition, which we do using an additional forcing term $C \\mathbf{b}^k$.\n",
        "\n",
        "This calculation involves $K+1$ separate multiplications of an $N \\times N$ matrix with an $N \\times 1$ vector. For reasonable values of $K$ and $N$ it should only take a few seconds."
      ]
    },
    {
      "cell_type": "code",
      "metadata": {
        "id": "K51ype5ETOxQ"
      },
      "source": [
        "for k in range(K):\n",
        "  u[1:,k+1] = u[1:,k+1] + np.matmul(A,u[1:,k])\n",
        "  u[1,k+1] = u[1,k+1] + C*b[k+1]"
      ],
      "execution_count": null,
      "outputs": []
    },
    {
      "cell_type": "markdown",
      "metadata": {
        "id": "kQh1EIVEhfR6"
      },
      "source": [
        "## Visualising the output\n",
        "\n",
        "Now we are ready to look at the evolution of the perturbation. We will do this in two ways: a space-time diagram of $u(x,t)$ and snapshots at different times $t$."
      ]
    },
    {
      "cell_type": "code",
      "metadata": {
        "id": "aszeU8evTbOd"
      },
      "source": [
        "fig = plt.figure(figsize=(16,16))\n",
        "\n",
        "ax = fig.add_subplot(2,1,1)\n",
        "plt.pcolormesh(xx,tt,u,cmap=plt.cm.coolwarm)\n",
        "plt.title(r'Space-time plot of 1D wave equation',fontsize=16)\n",
        "plt.xlabel(r'x',fontsize=16)\n",
        "plt.ylabel(r't',fontsize=16)\n",
        "\n",
        "ax = fig.add_subplot(2,1,2)\n",
        "cmap = plt.get_cmap('viridis')\n",
        "colors = [cmap(k) for k in np.linspace(0,1,K)]\n",
        "for k in range(K):\n",
        "    if k % np.floor((K+1)/10) == 0:\n",
        "        plt.plot(xv,u[:,k],color=colors[k],label='t=%4.1f' %tv[k])\n",
        "\n",
        "plt.title(r'Snapshots of perturbation u(x,t)',fontsize=16)\n",
        "plt.xlabel(r'x',fontsize=16)\n",
        "plt.ylabel(r'u(x,t)',fontsize=16)\n",
        "plt.legend(loc='upper right').draw_frame(False)"
      ],
      "execution_count": null,
      "outputs": []
    },
    {
      "cell_type": "markdown",
      "metadata": {
        "id": "QvhtnYLchwiV"
      },
      "source": [
        "-----------------\n",
        "**Exercise**\n",
        "\n",
        "As you carry out these experiments, make notes of your observations in the text box at the bottom of this notebook.  \n",
        "\n",
        "- In the space time diagram the wave propagates towards the top-right corner of the figure. What is the slope of this line, and why?\n",
        "\n",
        "- Try changing the wave speed `a` and rerunning the simulation. How does this change your plots? How does it change the Courant number $C$ and the forward operator $\\mathsf{A}$? Are there values of $C$ that cause the simulation to break down?\n",
        "\n",
        "- Notice that there is a small decrease in the height of the perturbation with time. This is due to *numerical diffusion* caused by the discretization we have chosen. Try changing the space and time discretizations by modifying $L$, $N$, $T$ and $K$. How does this change the simulation?\n",
        "\n",
        "- The width of the initial perturbation is given by the parameter `D`. Try making this larger or smaller. How does this change the numerical diffusion?\n",
        "\n",
        "- Repeat the experiment with zero initial condition but a time-dependent boundary condition. What is the result? What is the physical interpretation of this experiment?\n",
        "-------------------"
      ]
    },
    {
      "cell_type": "markdown",
      "metadata": {
        "id": "bh0-e2nEjhw6"
      },
      "source": [
        "## Challenge exercises\n",
        "\n",
        "Here are some harder exercises to make you think a bit more deeply about finite differencing and discretizations.\n",
        "\n",
        "----------------\n",
        "**Exercise**\n",
        "\n",
        "- How would you change the model parameters and the forward operator to get waves travelling to the left instead of the right?\n",
        "\n",
        "- Better accuracy can be achieved with a higher order estimate of the spatial derivatives. This can be done with a second order upwind scheme that uses 3 spatial points instead of 2 [Note: care needs to be taken near the boundary]\n",
        ":\n",
        "\n",
        "$$\n",
        "u_n^{k+1} = u_n^{k} - \\frac{a \\Delta t}{2 \\Delta x} \\left( 3 u_n^k - 4 u_{n-1}^k  + u_{n-2}^k\\right).\n",
        "$$\n",
        "\n",
        "\n",
        "- So far we have only considered a Dirichlet boundary conditions, e.g. $u(0,t) = 0$. How would you change this to a Neumann boundary condition instead? For example,\n",
        "$$\n",
        "\\frac{\\partial u}{\\partial x} (0, t) = 0.\n",
        "$$\n",
        "\n",
        "- Using the full operator $\\mathsf{A}$ is actually not very efficient because it involves the product of an $N \\times N$ matrix with most entries equal to zero. A faster method would be to use a `for` loop to cycle through the non-zero components of the operator only. Write some python code to update the field using a `for` loop instead of a matrix multiplication.\n",
        "\n",
        "----------------\n"
      ]
    },
    {
      "cell_type": "markdown",
      "metadata": {
        "id": "3OdNsm1umIDy"
      },
      "source": [
        "# Notes\n",
        "\n",
        "Add your own observations, calculations, and notes here."
      ]
    }
  ]
}