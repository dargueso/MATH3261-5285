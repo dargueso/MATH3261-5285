{
 "cells": [
  {
   "cell_type": "markdown",
   "metadata": {
    "colab_type": "text",
    "id": "view-in-github"
   },
   "source": [
    "<a href=\"https://colab.research.google.com/github/janzika/MATH3261-5285/blob/main/baroclinic_instability.ipynb\" target=\"_parent\"><img src=\"https://colab.research.google.com/assets/colab-badge.svg\" alt=\"Open In Colab\"/></a>"
   ]
  },
  {
   "cell_type": "markdown",
   "metadata": {
    "id": "Fmx9t6yYmus6"
   },
   "source": [
    "![](https://raw.githubusercontent.com/climate-in-the-cloud/workshop/master/agulhas-rings.png)\n",
    "*Figure: Baroclinic instability is responsible for the formation of ocean eddies like the ones shown here off the coast of South Africa. Credit: [NASA Perpetial Ocean](https://youtu.be/CCmTY0PKGDs).*\n",
    "\n",
    "# Lab 5: Baroclinic instability\n",
    "\n",
    "In this lab we will examine baroclinic instability in a two-layer shallow water QG model. We will examine:\n",
    "\n",
    "- counter-propagating Rossby waves\n",
    "- coupling of the two layers via vortex stretching/squeezing\n",
    "- the role of the baroclinic shear velocity and the condition for instability\n",
    "\n",
    "By the end of this lab you will be able to:\n",
    "\n",
    "- describe the evolution of small perturbations to the two-layer QG model qualitatively and in terms of energetics\n",
    "- relate the base state parameters and initial conditions to the resulting instability\n",
    "- predict for the behaviour of the model under new parameters / initial conditions and devise experiments to test these predictions\n",
    "\n",
    "To use this notebook, you will need Python 3 and the latest version of [Dedalus](http://dedalus-project.org/) installed on your local machine.\n",
    "\n",
    "If you do not have Python 3 and Dedalus, you can run the lab on [Google Colaboratory](http://colab.research.google.com).  "
   ]
  },
  {
   "cell_type": "markdown",
   "metadata": {
    "id": "id9l8Va-m3xk"
   },
   "source": [
    "## Google Colaboratory\n",
    "\n",
    "You can run this notebook in your browser using [Google Colaboratory](http://colab.research.google.com/) (or \"Colab\", for short). You will need a (free) [Google Account](https://myaccount.google.com/intro) to run the notebooks. If you would prefer not to sign up, you can still read the notebook, but you won't be able to run the code cells.\n",
    "\n",
    "Remember that the keyboard shortcut to execute a code cell is **CMD/CTRL+ENTER**, while **SHIFT+ENTER** will move you to the next cell. You can also click the play button to the left of each cell.\n",
    "\n",
    "Watch [Introduction to Colab](https://www.youtube.com/watch?v=inN8seMm7UI)  to learn more, or check out this [Overview of Colab Features](https://colab.research.google.com/notebooks/basic_features_overview.ipynb).\n",
    "\n",
    "If you would like to mount your Google Drive in Colab, copy and paste the following code snippet:\n",
    "```\n",
    "from google.colab import drive\n",
    "drive.mount('/content/drive')\n",
    "!ls drive/'My Drive'\n",
    "```\n",
    "\n",
    "You can also save your notebook to Google Drive, or download a copy of the notebook file, using the **File Menu** in the top left corner."
   ]
  },
  {
   "cell_type": "markdown",
   "metadata": {
    "id": "D57T8s3tEzfK"
   },
   "source": [
    "# Background\n",
    "\n",
    "This lab builds upon lecture materials from Topic 4: Quasigeostrophy. Before and after the lab you may like to familiarize yourself with the lecture [videos](https://moodle.telt.unsw.edu.au/mod/url/view.php?id=3611931), [notes](https://moodle.telt.unsw.edu.au/mod/folder/view.php?id=3603785), and [slides](https://moodle.telt.unsw.edu.au/mod/folder/view.php?id=3603788)."
   ]
  },
  {
   "cell_type": "markdown",
   "metadata": {
    "id": "jC4AJ-KCmus-"
   },
   "source": [
    "## Two-layer QG equations\n",
    "\n",
    "**Video:** [Lecture 9.1 The two-layer model](https://vimeo.com/531496691)\n",
    "\n",
    "We will model baroclinic instability using a two-layer quasigeostrophic model with a rigid lid and a flat bottom. In the lectures, we saw that this model is governed by the following equations of motion\n",
    "\n",
    "$$\n",
    "\\frac{D q_1}{D t} = 0, \\qquad \\frac{D q_2}{D t} = 0,\n",
    "$$\n",
    "\n",
    "where $q_1$ and $q_2$ are the QG potential vorticity in the upper and lower layers, respectively,\n",
    "\n",
    "$$\n",
    "q_1 = \\nabla^2 \\psi_1 + \\beta y + \\frac{1}{2} k_d^2 \\left( \\psi_2 - \\psi_1 \\right),\n",
    "$$\n",
    "\n",
    "$$\n",
    "q_2 = \\nabla^2 \\psi_2 + \\beta y - \\frac{1}{2} k_d^2 \\left( \\psi_2 - \\psi_1 \\right),\n",
    "$$\n",
    "\n",
    "Here, $k_d$ is the inverse of the Rossby deformation scale, $k_d = 1/L_d$.\n",
    "\n",
    "\n"
   ]
  },
  {
   "cell_type": "markdown",
   "metadata": {
    "id": "p9ooQ6W4mutF"
   },
   "source": [
    "## Base state and perturbations\n",
    "\n",
    "**Video:** [Lecture 9.5 Baroclinic instability](https://vimeo.com/531512376)\n",
    "\n",
    "We prescribe a base state with a velocity of $(U, 0)$ in the upper layer and $(-U,0)$ in the lower layer\n",
    "\n",
    "$$\n",
    "\\overline{\\psi_1} = - U y, \\qquad \\overline{\\psi_2} = U y.\n",
    "$$\n",
    "\n",
    "This gives a base state potential vorticity of\n",
    "\n",
    "$$\n",
    "\\overline{q_1} = \\left( \\beta + k_d^2 U \\right) y, \\qquad \\overline{q_2} = \\left( \\beta - k_d^2 U \\right) y.\n",
    "$$\n",
    "\n",
    "We can see that the potential vorticity gradient in the two layers will have opposite sign only if $k_d^2 U > \\beta$.\n",
    "\n",
    "Now consider small perturbations to the base state streamfunction and potential vorticity\n",
    "\n",
    "$$\n",
    "\\psi_1 = \\overline{\\psi_1} + \\psi_1', \\qquad q_1 = \\overline{q_1} + q_1', \\qquad \\text{where} \\qquad q_1' = \\nabla^2 \\psi_1' + \\frac{1}{2} k_d^2 \\left( \\psi_2' - \\psi_1' \\right),\n",
    "$$\n",
    "\n",
    "$$\n",
    "\\psi_2 = \\overline{\\psi_2} + \\psi_2', \\qquad q_2 = \\overline{q_2} + q_2', \\qquad \\text{where} \\qquad q_2' = \\nabla^2 \\psi_2' - \\frac{1}{2} k_d^2 \\left( \\psi_2' - \\psi_1' \\right),  \n",
    "$$\n",
    "\n",
    "Substituting this into the equations of motion in each layer and neglecting nonlinear terms gives\n",
    "\n",
    "$$\n",
    "\\left( \\frac{\\partial}{\\partial t} + U \\frac{\\partial}{\\partial x} \\right) q_1' + \\frac{\\partial \\psi_1'}{\\partial x} \\left( \\beta + k_d^2 U \\right) = 0,\n",
    "$$\n",
    "\n",
    "$$\n",
    "\\left( \\frac{\\partial}{\\partial t} - U \\frac{\\partial}{\\partial x} \\right) q_2' + \\frac{\\partial \\psi_2'}{\\partial x} \\left( \\beta - k_d^2 U \\right) = 0,\n",
    "$$\n"
   ]
  },
  {
   "cell_type": "markdown",
   "metadata": {
    "id": "z2mObCYf-EEE"
   },
   "source": [
    "## Further reading\n",
    "\n",
    "- O'Brien, E. (2019) [Balancing the Potential Vorticity Seesaw: The bare essentials of baroclinic instability](https://link.springer.com/article/10.1007/s41748-019-00128-7). *Earth Systems and Environments* 3: 341-351.\n",
    "\n",
    "- Keating, S. (2014) Baroclinic Instability. Lecture at the 2014 ARCCSS winter school [(YouTube link)](https://youtu.be/yhbJhB4-NDo)"
   ]
  },
  {
   "cell_type": "markdown",
   "metadata": {
    "id": "25XaF0wgmutI"
   },
   "source": [
    "# Experimental set-up"
   ]
  },
  {
   "cell_type": "markdown",
   "metadata": {
    "id": "jb9JrHdUnxSi"
   },
   "source": [
    "## Installing Dedalus\n",
    "\n",
    "We start by installing Dedalus on the Colab virtual machine. This might take a few minutes."
   ]
  },
  {
   "cell_type": "code",
   "execution_count": null,
   "metadata": {
    "colab": {
     "base_uri": "https://localhost:8080/"
    },
    "id": "fYVNGfcPn4jj",
    "outputId": "0006a4e0-279b-494c-e335-caa446f2e237"
   },
   "outputs": [],
   "source": [
    "# Set environment variables for best performance\n",
    "%env OMP_NUM_THREADS=1\n",
    "%env NUMEXPR_MAX_THREADS=1\n",
    "\n",
    "# Minimize logging output\n",
    "import logging\n",
    "logging.disable(logging.DEBUG)\n",
    "\n",
    "# Check if running on google colab\n",
    "import os\n",
    "using_google_colab = bool(os.getenv(\"COLAB_RELEASE_TAG\"))\n",
    "\n",
    "# Check for Dedalus\n",
    "try:\n",
    "    import dedalus.public as de\n",
    "    print(\"Dedalus already installed :)\")\n",
    "except:\n",
    "    print(\"Dedalus not installed yet.\")\n",
    "    if using_google_colab:\n",
    "        print(\"Installing for Google Colab.\")\n",
    "        print()\n",
    "        # Step 1: Install FFTW\n",
    "        !apt-get install libfftw3-dev\n",
    "        !apt-get install libfftw3-mpi-dev\n",
    "        # Step 2: Set paths for Dedalus installation\n",
    "        import os\n",
    "        os.environ['MPI_INCLUDE_PATH'] = \"/usr/lib/x86_64-linux-gnu/openmpi/include\"\n",
    "        os.environ['MPI_LIBRARY_PATH'] = \"/usr/lib/x86_64-linux-gnu\"\n",
    "        os.environ['FFTW_INCLUDE_PATH'] = \"/usr/include\"\n",
    "        os.environ['FFTW_LIBRARY_PATH'] = \"/usr/lib/x86_64-linux-gnu\"\n",
    "        # Step 3: Install Dedalus using pip\n",
    "        !pip3 install cython \"mpi4py<4.0\" numpy setuptools wheel\n",
    "        !CC=mpicc pip3 install --no-cache --no-build-isolation http://github.com/dedalusproject/dedalus/zipball/v2_master/\n",
    "        !pip3 install -q ipympl\n",
    "        # Step 4: Check installation\n",
    "        print()\n",
    "        try:\n",
    "            import dedalus.public as de\n",
    "            print(\"Dedalus successfully installed :)\")\n",
    "        except:\n",
    "            print(\"Error installing Dedalus :(\")\n",
    "            raise\n",
    "    else:\n",
    "        print(\"See website for installation instructions:\")\n",
    "        print(\"https://dedalus-project.readthedocs.io/en/latest/pages/installation.html\")\n",
    "\n",
    "# Setup interactive matplotlib\n",
    "if using_google_colab:\n",
    "    from google.colab import output\n",
    "    output.enable_custom_widget_manager()"
   ]
  },
  {
   "cell_type": "markdown",
   "metadata": {
    "id": "qtgtl0Y4mutM"
   },
   "source": [
    "## Libraries\n",
    "\n",
    "We start by importing the usual libraries for Dedalus, Numpy, and Matplotlib."
   ]
  },
  {
   "cell_type": "code",
   "execution_count": null,
   "metadata": {
    "id": "saQC1Y3gmutP"
   },
   "outputs": [],
   "source": [
    "from dedalus import public as de\n",
    "import numpy as np\n",
    "import matplotlib.pyplot as plt\n",
    "from dedalus.extras import flow_tools"
   ]
  },
  {
   "cell_type": "markdown",
   "metadata": {
    "id": "vlSK4P-Omutd"
   },
   "source": [
    "## Basis and domains\n",
    "\n",
    "We will work in a square domain. For simplicity, we will use periodic boundary conditions on each side of the domain. We do this by choosing the basis functions in the $x$ and $y$ directions to be Fourier (sines and cosines)."
   ]
  },
  {
   "cell_type": "code",
   "execution_count": null,
   "metadata": {
    "id": "C4iw1Oasmutf"
   },
   "outputs": [],
   "source": [
    "# Domain size, resolution, and integration time\n",
    "Lx, Ly = 2*np.pi, 2*np.pi\n",
    "Nx, Ny = 64, 64\n",
    "T = 10.01\n",
    "\n",
    "# Basis functions\n",
    "x_basis = de.Fourier('x', Nx, interval=(-Lx, Lx), dealias=3/2)\n",
    "y_basis = de.Fourier('y', Ny, interval=(-Ly, Ly), dealias=3/2)\n",
    "domain  = de.Domain([x_basis,y_basis], np.float64)"
   ]
  },
  {
   "cell_type": "markdown",
   "metadata": {
    "id": "lvdtFM1Hmutl"
   },
   "source": [
    "# Problem parameters\n",
    "\n",
    "The problem parameters are\n",
    "- `beta`: the planetary vorticity gradient $\\beta$\n",
    "- `U`: the background shear flow strength (eastward) $U$ in the upper layer and $-U$ in the lower layer\n",
    "- `Kd`: the inverse deformation length $K_d = 1/L_d$\n",
    "- `D`: diffusivity\n",
    "\n",
    "To start, we will look at the case with no shear, $U = 0$, and no vortex stretching or squeezing, $K_d = 0$. The problem then reduces to two shallow water layers that do not interact."
   ]
  },
  {
   "cell_type": "code",
   "execution_count": null,
   "metadata": {
    "id": "ieVJNjXbmutm"
   },
   "outputs": [],
   "source": [
    "# problem parameters\n",
    "\n",
    "beta = 1.    # planetary vorticity gradient\n",
    "D    = 5e-4  # diffusivity\n",
    "\n",
    "# Change these parameters to try different experiments\n",
    "\n",
    "U    = 1.    # shear flow strength\n",
    "Kd   = 2.    # deformation wavenumber"
   ]
  },
  {
   "cell_type": "markdown",
   "metadata": {
    "id": "V7Tq49RRmuts"
   },
   "source": [
    "## Initial value problem\n",
    "\n",
    "Now we need to tell Dedalus about the domain, variables, parameters, and equations. (We don't need to worry about boundary conditions because they are built into our choice of Fourier basis modes.)\n",
    "\n",
    "We will define the problem in almost exactly the same way as we did when we simulated Rossby waves: the only difference here is that we now have *two* shallow water layers to simulate."
   ]
  },
  {
   "cell_type": "code",
   "execution_count": null,
   "metadata": {
    "id": "X06PXnXmmutu"
   },
   "outputs": [],
   "source": [
    "# create the initial value problem\n",
    "problem = de.IVP(domain, variables=['psi1','psi2'])\n",
    "\n",
    "# declare the problem parameters\n",
    "problem.parameters['beta'] = beta\n",
    "problem.parameters['Kd']   = Kd\n",
    "problem.parameters['U']    = U\n",
    "problem.parameters['D']    = D\n",
    "\n",
    "# declare substitutions\n",
    "problem.substitutions['q1']     = \"d(psi1,x=2) + d(psi1,y=2) + Kd**2*(psi2-psi1)/2\"\n",
    "problem.substitutions['q2']     = \"d(psi2,x=2) + d(psi2,y=2) - Kd**2*(psi2-psi1)/2\"\n",
    "problem.substitutions['J(f,g)'] = \"dx(f)*dy(g) - dy(f)*dx(g)\"\n",
    "problem.substitutions['u']      = \"-dy(psi1)\"\n",
    "problem.substitutions['v']      = \"dx(psi1)\"\n",
    "\n",
    "# equations of motion\n",
    "problem.add_equation(\"dt(q1) + U*dx(q1) + (beta + Kd**2*U)*dx(psi1) - D*d(q1,x=2) - D*d(q1,y=2)= - J(psi1,q1)\",condition=\"(nx!=0) or (ny!=0)\")\n",
    "problem.add_equation(\"psi1 = 0\",condition=\"(nx==0) and (ny==0)\")\n",
    "problem.add_equation(\"dt(q2) - U*dx(q2) + (beta - Kd**2*U)*dx(psi2) - D*d(q2,x=2) - D*d(q2,y=2) = - J(psi2,q2)\",condition=\"(nx!=0) or (ny!=0)\")\n",
    "problem.add_equation(\"psi2 = 0\",condition=\"(nx==0) and (ny==0)\")"
   ]
  },
  {
   "cell_type": "markdown",
   "metadata": {
    "id": "G7azrnJAmut0"
   },
   "source": [
    "## Create the solver"
   ]
  },
  {
   "cell_type": "code",
   "execution_count": null,
   "metadata": {
    "colab": {
     "base_uri": "https://localhost:8080/"
    },
    "id": "NX2Gm1f3mut1",
    "outputId": "4064454f-1ec7-4b7a-aee8-549451831a13"
   },
   "outputs": [],
   "source": [
    "solver =  problem.build_solver(de.timesteppers.RK443)\n",
    "\n",
    "solver.stop_sim_time = T\n",
    "solver.stop_wall_time = np.inf\n",
    "solver.stop_iteration = np.inf\n",
    "\n",
    "initial_dt = 0.2*Lx/Nx\n",
    "max_dt = 1e-1\n",
    "cfl = flow_tools.CFL(solver,initial_dt,safety=0.8)\n",
    "cfl.add_velocities(('u','v'))"
   ]
  },
  {
   "cell_type": "markdown",
   "metadata": {
    "id": "ZFKJL35pmut8"
   },
   "source": [
    "## Initial condition\n",
    "\n",
    "The evolution of the instability does not depend strongly on the choice of initial condition. Here we have chosen an initial small perturbation to the PV in each layers."
   ]
  },
  {
   "cell_type": "code",
   "execution_count": null,
   "metadata": {
    "id": "yvZrKJVHmut-"
   },
   "outputs": [],
   "source": [
    "x,y = domain.grids(scales=domain.dealias)\n",
    "\n",
    "q1_init = domain.new_field()\n",
    "q1_init.set_scales(domain.dealias,keep_data=False)\n",
    "q2_init = domain.new_field()\n",
    "q2_init.set_scales(domain.dealias,keep_data=False)\n",
    "\n",
    "eps = .3 # initial perturbation strength\n",
    "\n",
    "q1_init['g'] = eps*np.cos(4*np.pi/Lx*x)*np.exp(-(x**2+y**2)/8)\n",
    "q2_init['g'] = -eps*np.cos(4*np.pi/Lx*x)*np.exp(-(x**2+y**2)/8)"
   ]
  },
  {
   "cell_type": "markdown",
   "metadata": {
    "id": "7SVCtoZXmuuE"
   },
   "source": [
    "## Boundary value problem for streamfunction\n",
    "\n",
    "We are specifying the initial potential vorticity, from which we need to derive the initial streamfunction. We do this by solving a Boundary Value Problem for the initial streamfunction."
   ]
  },
  {
   "cell_type": "code",
   "execution_count": null,
   "metadata": {
    "id": "ruj-tAQymuuF"
   },
   "outputs": [],
   "source": [
    "init_problem = de.LBVP(domain, variables=['psi1','psi2'])\n",
    "\n",
    "# declare the problem parameters\n",
    "init_problem.parameters['q1_init']   = q1_init\n",
    "init_problem.parameters['q2_init']   = q2_init\n",
    "init_problem.parameters['Kd']        = Kd\n",
    "\n",
    "# boundary value problem\n",
    "init_problem.add_equation(\"d(psi1,x=2) + d(psi1,y=2) + Kd**2*(psi2-psi1)/2 = q1_init\",condition=\"(nx!=0) or (ny!=0)\")\n",
    "init_problem.add_equation(\"d(psi2,x=2) + d(psi2,y=2) - Kd**2*(psi2-psi1)/2 = q2_init\",condition=\"(nx!=0) or (ny!=0)\")\n",
    "init_problem.add_equation(\"psi1 = 0\",condition=\"(nx==0) and (ny==0)\")\n",
    "init_problem.add_equation(\"psi2 = 0\",condition=\"(nx==0) and (ny==0)\")"
   ]
  },
  {
   "cell_type": "code",
   "execution_count": null,
   "metadata": {
    "colab": {
     "base_uri": "https://localhost:8080/"
    },
    "id": "7kpMOcxTmuuL",
    "outputId": "d181a1ba-5606-4123-c180-5b9e2b3a84ab"
   },
   "outputs": [],
   "source": [
    "# solve for the initial state\n",
    "init_solver = init_problem.build_solver()\n",
    "init_solver.solve()\n",
    "psi1_init = init_solver.state['psi1']\n",
    "psi1_init.set_scales(domain.dealias, keep_data=False)\n",
    "psi2_init = init_solver.state['psi2']\n",
    "psi2_init.set_scales(domain.dealias, keep_data=False)"
   ]
  },
  {
   "cell_type": "markdown",
   "metadata": {
    "id": "kSLC3a3pmuuQ"
   },
   "source": [
    "## Plot initial conditions\n",
    "\n",
    "We can now visualize the streamfunction and potential vorticity. The *total* streamfunction is given by the sum of the base state and the initial perturbation\n",
    "\n",
    "$$\n",
    "\\psi_1 = \\overline{\\psi_1} + \\psi_1', \\qquad \\text{where} \\qquad \\overline{\\psi_1} = - U \\, y,\n",
    "$$\n",
    "\n",
    "$$\n",
    "\\psi_2 = \\overline{\\psi_2} + \\psi_2', \\qquad \\text{where} \\qquad \\overline{\\psi_2} = U \\, y.\n",
    "$$\n",
    "\n",
    "Likewise, the *total* potential vorticity is\n",
    "\n",
    "$$\n",
    "q_1 = \\overline{q_1} + q_1', \\qquad \\text{where} \\qquad \\overline{q_1} = \\left( \\beta + K_d^2 U \\right) \\, y,\n",
    "$$\n",
    "\n",
    "$$\n",
    "q_2 = \\overline{q_2} + q_2', \\qquad \\text{where} \\qquad \\overline{q_2} = \\left( \\beta - K_d^2 U \\right) \\, y.\n",
    "$$"
   ]
  },
  {
   "cell_type": "code",
   "execution_count": null,
   "metadata": {
    "colab": {
     "base_uri": "https://localhost:8080/",
     "height": 971
    },
    "id": "Ai7P9kKEmuuR",
    "outputId": "d02f2c6a-4f49-430e-8398-9642bd9941b8"
   },
   "outputs": [],
   "source": [
    "# Plot the initial conditions\n",
    "\n",
    "xx,yy = np.meshgrid(x,y,indexing='ij')\n",
    "\n",
    "fig = plt.figure(figsize=(16,16))\n",
    "\n",
    "ax  = fig.add_subplot(2,2,1)\n",
    "cax = ax.contourf(xx, yy, psi1_init['g'],8,cmap=plt.cm.coolwarm)\n",
    "dax = ax.contour(xx, yy, psi1_init['g'],8,colors='k')\n",
    "ax.set(title='$\\Psi_1$ (t = 0)')\n",
    "cbar = fig.colorbar(cax)\n",
    "\n",
    "ax  = fig.add_subplot(2,2,2)\n",
    "cax = ax.contourf(xx, yy, q1_init['g']+(beta+Kd**2*U)*yy,8,cmap=plt.cm.PuOr)\n",
    "dax = ax.contour(xx, yy, q1_init['g']+(beta+Kd**2*U)*yy,8,colors='k')\n",
    "ax.set(title='$q_1$ (t = 0)')\n",
    "cbar = fig.colorbar(cax)\n",
    "\n",
    "ax  = fig.add_subplot(2,2,3)\n",
    "cax = ax.contourf(xx, yy, psi2_init['g'],8,cmap=plt.cm.coolwarm)\n",
    "dax = ax.contour(xx, yy, psi2_init['g'],8,colors='k')\n",
    "ax.set(title='$\\Psi_2$ (t = 0)')\n",
    "cbar = fig.colorbar(cax)\n",
    "\n",
    "ax  = fig.add_subplot(2,2,4)\n",
    "cax = ax.contourf(xx, yy, q2_init['g']+(beta-Kd**2*U)*yy,8,cmap=plt.cm.PuOr)\n",
    "dax = ax.contour(xx, yy, q2_init['g']+(beta-Kd**2*U)*yy,8,colors='k')\n",
    "ax.set(title='$q_2$ (t = 0)')\n",
    "cbar = fig.colorbar(cax)"
   ]
  },
  {
   "cell_type": "markdown",
   "metadata": {
    "id": "codBoX97muuX"
   },
   "source": [
    "## Analysis\n",
    "\n",
    "Since our model is evolving the streamfunction `psi` in each layer, we would like to save these fields, along with the potential vorticity `q` and velocities `u` and `v` every few timesteps. These will be saved in a directory `analysis_dir`.  \n",
    "\n",
    "In addition to snapshots of the streamfunction, velocity, and potential vorticity, we will save time series of the kinetic energy and available potential energy of the perturbations:\n",
    "\n",
    "$$\n",
    "KE = \\frac{1}{2} \\int | \\boldsymbol{\\nabla} \\psi_1' |^2 + | \\boldsymbol{\\nabla} \\psi_2' |^2 \\, dA\n",
    "$$\n",
    "\n",
    "$$\n",
    "APE = \\int K_d^2 \\, \\left( \\psi_1' - \\psi_2' \\right)^2 \\, dA\n",
    "$$"
   ]
  },
  {
   "cell_type": "code",
   "execution_count": null,
   "metadata": {
    "id": "p6gdhXQJmuuY"
   },
   "outputs": [],
   "source": [
    "# first remove any existing analysis folders\n",
    "analysis_dir = 'analysis'\n",
    "import os\n",
    "import shutil\n",
    "\n",
    "if os.path.exists(analysis_dir):\n",
    "    print(\"Overwriting existing directory \" + analysis_dir)\n",
    "    shutil.rmtree(analysis_dir)\n",
    "\n",
    "# Create analysis tasks\n",
    "\n",
    "analysis = solver.evaluator.add_file_handler(analysis_dir, sim_dt=max_dt, max_writes=100)\n",
    "analysis.add_system(solver.state, layout='g')\n",
    "analysis.add_task(\"d(psi1,x=2)+d(psi1,y=2)+Kd**2*(psi2-psi1)\", layout='g', name='q1')\n",
    "analysis.add_task(\"d(psi2,x=2)+d(psi2,y=2)-Kd**2*(psi2-psi1)\", layout='g', name='q2')\n",
    "analysis.add_task(\"-dy(psi1)\", layout='g', name='u1')\n",
    "analysis.add_task(\" dx(psi1)\", layout='g', name='v1')\n",
    "analysis.add_task(\"-dy(psi2)\", layout='g', name='u2')\n",
    "analysis.add_task(\" dx(psi2)\", layout='g', name='v2')\n",
    "analysis.add_task(\"integ(0.5*(dx(psi1)*dx(psi1)+dy(psi1)*dy(psi1)+dx(psi2)*dx(psi2)+dy(psi2)*dy(psi2)))\",name='KE')\n",
    "analysis.add_task(\"integ(Kd**2*(psi1-psi2)*(psi1-psi2))\", name='APE')"
   ]
  },
  {
   "cell_type": "markdown",
   "metadata": {
    "id": "0h7rcZlmmuud"
   },
   "source": [
    "## Run the simulation\n",
    "\n",
    "We are now ready to run the simulation. We call a variables `psi1` and `psi2` and give them the initial values `psi1_init` and `psi2_init`, respectively. Then we run through the main time loop, saving data as we go using the analysis tasks that we defined.  "
   ]
  },
  {
   "cell_type": "code",
   "execution_count": null,
   "metadata": {
    "colab": {
     "base_uri": "https://localhost:8080/"
    },
    "id": "k4gEmGrcmuuf",
    "outputId": "e8f41aa9-d4da-486c-fc19-7d52b639dd4f"
   },
   "outputs": [],
   "source": [
    "import time\n",
    "psi1 = solver.state['psi1']\n",
    "psi1.set_scales(domain.dealias,keep_data=False)\n",
    "psi1['g'] = psi1_init['g']\n",
    "psi2 = solver.state['psi2']\n",
    "psi2.set_scales(domain.dealias,keep_data=False)\n",
    "psi2['g'] = psi2_init['g']\n",
    "\n",
    "# Main loop\n",
    "start_time = time.time()\n",
    "while solver.ok:\n",
    "    dt = min(max_dt,cfl.compute_dt())\n",
    "    solver.step(dt)\n",
    "    if solver.iteration % 100 == 0:\n",
    "        print('Iteration: %i, Time: %e, dt: %e' %(solver.iteration, solver.sim_time, dt))\n",
    "end_time = time.time()\n",
    "print('Runtime:', end_time-start_time)"
   ]
  },
  {
   "cell_type": "markdown",
   "metadata": {
    "id": "YGuHjsPCmuul"
   },
   "source": [
    "## Merge the analysis files and read in the data\n",
    "\n",
    "Dedalus saves the analysis data (snapshots of the flow etc) to a number of subdirectories in the directory `analysis`. In order to plot figures and make movies, we need to merge these files together into a single data set and then read it into memory."
   ]
  },
  {
   "cell_type": "code",
   "execution_count": null,
   "metadata": {
    "colab": {
     "base_uri": "https://localhost:8080/"
    },
    "id": "OwSswnGamuum",
    "outputId": "81950bda-9c04-4eef-94e0-1b646588e7ac"
   },
   "outputs": [],
   "source": [
    "# Merge the analysis files\n",
    "\n",
    "import subprocess\n",
    "from dedalus.tools import post\n",
    "import pathlib\n",
    "post.merge_process_files(analysis_dir, cleanup=True)\n",
    "set_paths = list(pathlib.Path(analysis_dir).glob(\"analysis_s*.h5\"))\n",
    "post.merge_sets(analysis_dir + \"/analysis.h5\", set_paths, cleanup=True)"
   ]
  },
  {
   "cell_type": "code",
   "execution_count": null,
   "metadata": {
    "id": "bPMpqrZLmuuq"
   },
   "outputs": [],
   "source": [
    "# Read in the data\n",
    "\n",
    "import h5py\n",
    "\n",
    "file = h5py.File(analysis_dir + '/analysis.h5','r')\n",
    "t    = file['/scales/sim_time'][:]\n",
    "X    = file['/scales/x/1.0'][:]\n",
    "Y    = file['/scales/y/1.0'][:]\n",
    "psi1 = file['tasks']['psi1'][:]\n",
    "q1   = file['tasks']['q1'][:]\n",
    "psi2 = file['tasks']['psi2'][:]\n",
    "q2   = file['tasks']['q2'][:]\n",
    "APE  = file['tasks']['APE'][:]\n",
    "KE   = file['tasks']['KE'][:]\n",
    "\n",
    "file.close()\n",
    "\n",
    "APE = APE[:,0,0]\n",
    "KE  = KE[:,0,0]"
   ]
  },
  {
   "cell_type": "markdown",
   "metadata": {
    "id": "217-nK9Xmuuu"
   },
   "source": [
    "## Plot snapshots of the PV\n",
    "\n",
    "Now we can plot snapshots of the (total) potential vorticity and save them to a new directory called `plots`. Once we have created the snapshots, we can stitch them together into a movie.\n",
    "\n",
    "You can easily adapt this code if you would like to visualize the streamfunction or the velocity fields instead."
   ]
  },
  {
   "cell_type": "code",
   "execution_count": null,
   "metadata": {
    "colab": {
     "base_uri": "https://localhost:8080/"
    },
    "id": "6o0rmpsLmuuu",
    "outputId": "3853a0b6-b6bf-48ad-bb9f-c9cc0b258dd1"
   },
   "outputs": [],
   "source": [
    "# first remove any existing plot folders\n",
    "plot_dir = \"plots\"\n",
    "import os\n",
    "import shutil\n",
    "\n",
    "if os.path.exists(plot_dir):\n",
    "    print(\"Overwriting existing directory \" + plot_dir)\n",
    "    shutil.rmtree(plot_dir)\n",
    "\n",
    "os.makedirs(plot_dir)\n",
    "\n",
    "XX,YY = np.meshgrid(X,Y,indexing='ij')\n",
    "\n",
    "for i in range(len(t)):\n",
    "\n",
    "    fig = plt.figure(figsize=(16, 8))\n",
    "    ax  = fig.add_subplot(1,2,1)\n",
    "\n",
    "    cax = ax.contourf(XX, YY, q1[i,:,:]+(beta+Kd**2*U)*YY,8,cmap=plt.cm.PuOr)\n",
    "    dax = ax.contour(XX, YY, q1[i,:,:]+(beta+Kd**2*U)*YY,8,colors='k')\n",
    "    ax.set(title='q1: t = ' + str(round(t[i],4)))\n",
    "    cbar = fig.colorbar(cax)\n",
    "\n",
    "    ax  = fig.add_subplot(1,2,2)\n",
    "    cax = ax.contourf(XX, YY, q2[i,:,:]+(beta-Kd**2*U)*YY,8,cmap=plt.cm.PuOr)\n",
    "    dax = ax.contour(XX, YY, q2[i,:,:]+(beta-Kd**2*U)*YY,8,colors='k')\n",
    "    ax.set(title='q2: t = ' + str(round(t[i],4)))\n",
    "    cbar = fig.colorbar(cax)\n",
    "\n",
    "    fig.savefig(plot_dir + '/snap_{:0>3d}.png'.format(i),bbox_inches='tight')\n",
    "    plt.close()\n",
    "    if i%10 == 0:\n",
    "        print('Saved figure',i)\n",
    "\n",
    "print('Saved snapshots')"
   ]
  },
  {
   "cell_type": "markdown",
   "metadata": {
    "id": "dLojLyfb2QG4"
   },
   "source": [
    "## Viewing the simulation\n",
    "\n",
    "Below are two different ways you can view the output of your simulation. You can choose which option to use based on what works on your particular machine and web browser."
   ]
  },
  {
   "cell_type": "markdown",
   "metadata": {
    "id": "9l09uNQZ2eQ3"
   },
   "source": [
    "### Option 1: Combine the images into a GIF"
   ]
  },
  {
   "cell_type": "code",
   "execution_count": null,
   "metadata": {
    "colab": {
     "base_uri": "https://localhost:8080/"
    },
    "id": "iJu60KbEx58P",
    "outputId": "03fcec5a-5f68-40af-c8ba-7730e99058b4"
   },
   "outputs": [],
   "source": [
    "# Option 1: combine the images into a GIF\n",
    "\n",
    "from PIL import Image\n",
    "import glob\n",
    "\n",
    "def save_gif(image_filenames,gif_filename):\n",
    "  frames = []\n",
    "  imgs = sorted(glob.glob(image_filenames))\n",
    "  for i in imgs:\n",
    "    new_frame = Image.open(i)\n",
    "    frames.append(new_frame)\n",
    "\n",
    "  frames[0].save(gif_filename, format='GIF',\n",
    "    append_images=frames[1:],\n",
    "    save_all=True,\n",
    "    duration=100, loop=0)\n",
    "\n",
    "gif_filename = \"exp_U_\" + str(U) + \"_Kd_\" + str(Kd) +\".gif\"\n",
    "save_gif(plot_dir + \"/*.png\",gif_filename)\n",
    "print('Created ' + gif_filename)"
   ]
  },
  {
   "cell_type": "markdown",
   "metadata": {
    "id": "uD6oTjkJ18I5"
   },
   "source": [
    "To play the GIF, simply double click the file in the file browser on the left. This will open up an image browser in the Colab window."
   ]
  },
  {
   "cell_type": "markdown",
   "metadata": {
    "id": "hZqd0EE32iFj"
   },
   "source": [
    "### Option 2: Combine the images into an MP4"
   ]
  },
  {
   "cell_type": "code",
   "execution_count": null,
   "metadata": {
    "colab": {
     "base_uri": "https://localhost:8080/"
    },
    "id": "ALHY2uT_muu1",
    "outputId": "5018ecee-c9da-4a0c-c1bb-4f2cda6996f1"
   },
   "outputs": [],
   "source": [
    "# Option 2: combine the images into a MP4\n",
    "\n",
    "def save_mp4(image_filenames,mp4_filename,framerate):\n",
    "    os.system('ffmpeg -r ' + str(framerate) + ' -i ' + image_filenames + ' -vb 20M -vcodec mpeg4 -y ' + mp4_filename)\n",
    "\n",
    "# make movie\n",
    "mp4_filename = \"exp_U_\" + str(U) + \"_Kd_\" + str(Kd) +\".mp4\"\n",
    "save_mp4(plot_dir + \"/snap_%03d.png\",mp4_filename,10)\n",
    "print('Created ' + mp4_filename)"
   ]
  },
  {
   "cell_type": "code",
   "execution_count": null,
   "metadata": {
    "id": "jB2NzNN5rALZ"
   },
   "outputs": [],
   "source": []
  },
  {
   "cell_type": "markdown",
   "metadata": {
    "id": "D2S7Cit_wWXe"
   },
   "source": [
    "To play the movie, you can download it from the file browser on the left. The recommended movie player is VLC, which you can download [here](https://www.videolan.org/vlc/).\n",
    "\n",
    "Alternatively, you can run the code cell below to play the movie in the web browser. NOTE: this should work if you are running Safari on a Mac, but it may not work on your particular machine or internet browser."
   ]
  },
  {
   "cell_type": "code",
   "execution_count": null,
   "metadata": {
    "colab": {
     "base_uri": "https://localhost:8080/",
     "height": 470
    },
    "id": "_A_3vKoXrZLn",
    "outputId": "99b98f67-e913-42b0-94f9-4857f716206d"
   },
   "outputs": [],
   "source": [
    "# play movie in the web browser\n",
    "from IPython.display import HTML\n",
    "from base64 import b64encode\n",
    "mp4 = open(mp4_filename,'rb').read()\n",
    "data_url = \"data:video/mp4;base64,\" + b64encode(mp4).decode()\n",
    "HTML(\"\"\"\n",
    "<video width=800 controls>\n",
    "    <source src=\"%s\" type=\"video/mp4\">\n",
    "</video>\n",
    "\"\"\" % data_url)"
   ]
  },
  {
   "cell_type": "markdown",
   "metadata": {
    "id": "iSsjz2dkmuu6"
   },
   "source": [
    "## Available potential energy and kinetic energy\n",
    "\n"
   ]
  },
  {
   "cell_type": "code",
   "execution_count": null,
   "metadata": {
    "colab": {
     "base_uri": "https://localhost:8080/",
     "height": 515
    },
    "id": "EOb2Kbqlmuu7",
    "outputId": "982b1141-ef5a-4d46-e34d-6fefacc25083"
   },
   "outputs": [],
   "source": [
    "fig = plt.figure(figsize=(10, 5))\n",
    "ax  = plt.axes()\n",
    "ax.plot(t,APE,label=\"APE\")\n",
    "ax.plot(t,KE,label=\"KE\")\n",
    "\n",
    "plt.xlim([0,T])\n",
    "plt.title(r'Available Potential Energy / Kinetic Energy',fontsize=16)\n",
    "plt.xlabel(r'Model time',fontsize=16)\n",
    "\n",
    "plt.legend(loc='lower left',fontsize=16).draw_frame(True)"
   ]
  },
  {
   "cell_type": "markdown",
   "metadata": {
    "id": "BM7_aYOYmuvD"
   },
   "source": [
    "# Exercises\n",
    "\n",
    "In each of the following experiments, run the simulation and ask yourself the following questions:\n",
    "\n",
    "- Is the shear flow velocity larger than the threshold shear $U_s = \\beta / K_d^2$?\n",
    "- What is the base state potential vorticity gradient in each layer? Does it change sign?  \n",
    "- What direction do Rossby waves propagate in each layer?\n",
    "- Describe and explain what happens to the APE and KE as functions of time.\n",
    "- Describe qualitatively how the phases in each layer are related to one another.\n",
    "\n",
    "### Experiment 1: no shear flow, no coupling between layers\n",
    "\n",
    "In the first experiment, there is no shear flow (`U = 0`) and no coupling between the layers via vortex stretching or squeezing (`Kd = 0`).\n",
    "\n",
    "### Experiment 2: shear flow, no coupling between layers\n",
    "\n",
    "Now let's turn on the shear flow. Change the value of the shear flow velocity to `U = 1`. (This gives a base state flow of $U = 1$ in the upper layer and $U = -1$ in the lower layer.) However, we will still ignore coupling between the layers (`Kd = 0`).\n",
    "\n",
    "### Experiment 3: shear flow, coupling between layers\n",
    "\n",
    "Finally, let's turn on the shear flow and the coupling between the layers. Change the value of the shear flow velocity to `U = 1` and the inverse deformation scale to `Kd = 2`."
   ]
  }
 ],
 "metadata": {
  "colab": {
   "include_colab_link": true,
   "provenance": []
  },
  "kernelspec": {
   "display_name": "Python 3",
   "language": "python",
   "name": "python3"
  },
  "language_info": {
   "codemirror_mode": {
    "name": "ipython",
    "version": 3
   },
   "file_extension": ".py",
   "mimetype": "text/x-python",
   "name": "python",
   "nbconvert_exporter": "python",
   "pygments_lexer": "ipython3",
   "version": "3.12.5"
  }
 },
 "nbformat": 4,
 "nbformat_minor": 0
}
